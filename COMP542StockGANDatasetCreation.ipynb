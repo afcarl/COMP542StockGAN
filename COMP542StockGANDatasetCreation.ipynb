{
  "nbformat": 4,
  "nbformat_minor": 0,
  "metadata": {
    "colab": {
      "name": "COMP542StockGANDatasetCreation.ipynb",
      "provenance": []
    },
    "kernelspec": {
      "name": "python3",
      "display_name": "Python 3"
    }
  },
  "cells": [
    {
      "cell_type": "code",
      "metadata": {
        "id": "zbPfsExvBi41"
      },
      "source": [
        "import pandas as pd\r\n",
        "import numpy as np\r\n",
        "import requests\r\n",
        "import json\r\n",
        "\r\n",
        "ALPACA_API_KEY_ID = \"_________________________\"\r\n",
        "ALPACA_API_SECRET_KEY = \"_________________________\"\r\n",
        "\r\n",
        "ALPACA_API_BASE_URL = \"https://data.alpaca.markets/v1\""
      ],
      "execution_count": 78,
      "outputs": []
    },
    {
      "cell_type": "code",
      "metadata": {
        "id": "-3K5eETmEAaN"
      },
      "source": [
        "# List of tickers to grab data for\r\n",
        "tickers = [\r\n",
        "           \"GE\", \"NIO\", \"AMC\", \"EXPR\", \"XOM\",\r\n",
        "           \"F\", \"MRO\", \"ITUB\", \"BAC\", \"GME\",\r\n",
        "           \"PBR\", \"T\", \"CCL\", \"VALE\", \"NOK\",\r\n",
        "           \"NCLH\", \"RIG\", \"ABEV\", \"BBD\", \"WFC\"\r\n",
        "]"
      ],
      "execution_count": 2,
      "outputs": []
    },
    {
      "cell_type": "code",
      "metadata": {
        "id": "eWuSE6A3CX5W"
      },
      "source": [
        "# Generate Request to pull historical data from alpaca\r\n",
        "headers = {\"APCA-API-KEY-ID\": ALPACA_API_KEY_ID, \"APCA-API-SECRET-KEY\": ALPACA_API_SECRET_KEY}\r\n",
        "\r\n",
        "url = ALPACA_API_BASE_URL + \"/bars/1D\"\r\n",
        "\r\n",
        "params = {\r\n",
        "    \"symbols\": \",\".join(tickers),\r\n",
        "    \"start\": '2019-01-01T09:30:00-04:00',\r\n",
        "    \"end\": '2021-01-01T09:30:00-04:00',\r\n",
        "    \"limit\": 700\r\n",
        "}\r\n",
        "\r\n",
        "response = requests.request(\"GET\", url, headers=headers, params=params)\r\n",
        "\r\n",
        "data = json.loads(response.text)"
      ],
      "execution_count": 11,
      "outputs": []
    },
    {
      "cell_type": "code",
      "metadata": {
        "colab": {
          "base_uri": "https://localhost:8080/",
          "height": 220
        },
        "id": "KDSAbny-JaNd",
        "outputId": "eac1d84d-2e90-4e2e-8669-bd066a2a6927"
      },
      "source": [
        "# Process raw bar data into a dict of DataFrames\r\n",
        "symbols_dfs = {}\r\n",
        "\r\n",
        "for symb in tickers:\r\n",
        "  symbols_dfs[symb] = pd.DataFrame(data[symb])\r\n",
        "  symbols_dfs[symb].set_index([\"t\"], inplace=True)\r\n",
        "\r\n",
        "symbols_dfs[\"GE\"].head()"
      ],
      "execution_count": 9,
      "outputs": [
        {
          "output_type": "execute_result",
          "data": {
            "text/html": [
              "<div>\n",
              "<style scoped>\n",
              "    .dataframe tbody tr th:only-of-type {\n",
              "        vertical-align: middle;\n",
              "    }\n",
              "\n",
              "    .dataframe tbody tr th {\n",
              "        vertical-align: top;\n",
              "    }\n",
              "\n",
              "    .dataframe thead th {\n",
              "        text-align: right;\n",
              "    }\n",
              "</style>\n",
              "<table border=\"1\" class=\"dataframe\">\n",
              "  <thead>\n",
              "    <tr style=\"text-align: right;\">\n",
              "      <th></th>\n",
              "      <th>o</th>\n",
              "      <th>h</th>\n",
              "      <th>l</th>\n",
              "      <th>c</th>\n",
              "      <th>v</th>\n",
              "    </tr>\n",
              "    <tr>\n",
              "      <th>t</th>\n",
              "      <th></th>\n",
              "      <th></th>\n",
              "      <th></th>\n",
              "      <th></th>\n",
              "      <th></th>\n",
              "    </tr>\n",
              "  </thead>\n",
              "  <tbody>\n",
              "    <tr>\n",
              "      <th>1546405200</th>\n",
              "      <td>7.460</td>\n",
              "      <td>8.18</td>\n",
              "      <td>7.410</td>\n",
              "      <td>8.025</td>\n",
              "      <td>118691164</td>\n",
              "    </tr>\n",
              "    <tr>\n",
              "      <th>1546491600</th>\n",
              "      <td>8.020</td>\n",
              "      <td>8.20</td>\n",
              "      <td>7.500</td>\n",
              "      <td>8.065</td>\n",
              "      <td>104414212</td>\n",
              "    </tr>\n",
              "    <tr>\n",
              "      <th>1546578000</th>\n",
              "      <td>8.190</td>\n",
              "      <td>8.26</td>\n",
              "      <td>7.980</td>\n",
              "      <td>8.210</td>\n",
              "      <td>102709035</td>\n",
              "    </tr>\n",
              "    <tr>\n",
              "      <th>1546837200</th>\n",
              "      <td>8.545</td>\n",
              "      <td>8.79</td>\n",
              "      <td>7.390</td>\n",
              "      <td>8.750</td>\n",
              "      <td>162690859</td>\n",
              "    </tr>\n",
              "    <tr>\n",
              "      <th>1546923600</th>\n",
              "      <td>8.910</td>\n",
              "      <td>9.04</td>\n",
              "      <td>8.515</td>\n",
              "      <td>8.565</td>\n",
              "      <td>134300920</td>\n",
              "    </tr>\n",
              "  </tbody>\n",
              "</table>\n",
              "</div>"
            ],
            "text/plain": [
              "                o     h      l      c          v\n",
              "t                                               \n",
              "1546405200  7.460  8.18  7.410  8.025  118691164\n",
              "1546491600  8.020  8.20  7.500  8.065  104414212\n",
              "1546578000  8.190  8.26  7.980  8.210  102709035\n",
              "1546837200  8.545  8.79  7.390  8.750  162690859\n",
              "1546923600  8.910  9.04  8.515  8.565  134300920"
            ]
          },
          "metadata": {
            "tags": []
          },
          "execution_count": 9
        }
      ]
    },
    {
      "cell_type": "code",
      "metadata": {
        "colab": {
          "base_uri": "https://localhost:8080/"
        },
        "id": "whKxZzFIK8CN",
        "outputId": "7c46e294-6992-4e39-bd26-d326640e6db0"
      },
      "source": [
        "# Check amount of data for each symbol\r\n",
        "for symb in tickers:\r\n",
        "  print(symb, \"-\", len(data[symb]))"
      ],
      "execution_count": 5,
      "outputs": [
        {
          "output_type": "stream",
          "text": [
            "GE - 505\n",
            "NIO - 503\n",
            "AMC - 505\n",
            "EXPR - 503\n",
            "XOM - 505\n",
            "F - 505\n",
            "MRO - 505\n",
            "ITUB - 505\n",
            "BAC - 505\n",
            "GME - 505\n",
            "PBR - 504\n",
            "T - 505\n",
            "CCL - 503\n",
            "VALE - 505\n",
            "NOK - 505\n",
            "NCLH - 504\n",
            "RIG - 504\n",
            "ABEV - 505\n",
            "BBD - 505\n",
            "WFC - 505\n"
          ],
          "name": "stdout"
        }
      ]
    },
    {
      "cell_type": "code",
      "metadata": {
        "id": "X3GtFeGoMNaA"
      },
      "source": [
        "# Create raw dataset of potential entry and exit points for a rolling window of a variable amount of days 2 >= d >= 31\r\n",
        "\r\n",
        "# Because we are most likely dealing with limit orders we will want to make sure our orders get filled\r\n",
        "# Therefore instead of looking for entry/exit at the lowest/highest values on a day we will buffer them\r\n",
        "# by 10% of the bar length for that day"
      ],
      "execution_count": 6,
      "outputs": []
    },
    {
      "cell_type": "code",
      "metadata": {
        "id": "8IeQzngfOOW6"
      },
      "source": [
        "import datetime\r\n",
        "\r\n",
        "# Create an empty dataframe to hold our results\r\n",
        "possible_entry_exit = pd.DataFrame(columns=[\"ticker\",\"entry\",\"exit\",\"profit\",\"days\"])"
      ],
      "execution_count": 73,
      "outputs": []
    },
    {
      "cell_type": "code",
      "metadata": {
        "colab": {
          "base_uri": "https://localhost:8080/"
        },
        "id": "UUH91UUFNzob",
        "outputId": "f7c12471-b45b-4dda-c446-7c83ed5a8bae"
      },
      "source": [
        "# Raw data generation algorithm\r\n",
        "for symb in tickers:\r\n",
        "  start_time = datetime.datetime.now()\r\n",
        "  for days in range(2,32):\r\n",
        "    rows_for_day = []\r\n",
        "\r\n",
        "    for d in range(0, len(data[symb])-days):\r\n",
        "      min_value = data[symb][d]['l'] + ((data[symb][d]['h'] - data[symb][d]['l']) * 0.1)\r\n",
        "      min_index = d\r\n",
        "\r\n",
        "      secondary_min_value = min_value\r\n",
        "      secondary_min_index = min_index\r\n",
        "\r\n",
        "      max_value = max(data[symb][d]['c'], min_value)\r\n",
        "      max_index = d\r\n",
        "\r\n",
        "      profit = max_value - min_value\r\n",
        "\r\n",
        "      for t in range(d+1, d + days):\r\n",
        "        # if new min and new min/new max profit > last profit, update max to that day's close and update profit\r\n",
        "        # elif hold onto new min as secondary incase better max for profit in future\r\n",
        "        potential_min = data[symb][t]['l'] + ((data[symb][t]['h'] - data[symb][t]['l']) * 0.1)\r\n",
        "        closing = data[symb][t]['c']\r\n",
        "        if potential_min < min_value: # if new profit is more update everything\r\n",
        "          if (closing - potential_min) > profit:\r\n",
        "            min_value = potential_min\r\n",
        "            min_index = t\r\n",
        "\r\n",
        "            max_value = closing\r\n",
        "            max_index = t\r\n",
        "\r\n",
        "            profit = closing - potential_min\r\n",
        "          elif potential_min < secondary_min_value: # elif new profit is not more, update secondary min incase better profit in the future\r\n",
        "            secondary_min_value = potential_min\r\n",
        "            secondary_min_index = t\r\n",
        "\r\n",
        "        # if new max, just update max and profit\r\n",
        "        potential_max = data[symb][t]['h'] - ((data[symb][t]['h'] - data[symb][t]['l']) * 0.1)\r\n",
        "        if potential_max > max_value:\r\n",
        "          max_value = potential_max\r\n",
        "          max_index = t\r\n",
        "\r\n",
        "          if (max_value - secondary_min_value) > profit:\r\n",
        "            min_value = secondary_min_value\r\n",
        "            min_index = secondary_min_index\r\n",
        "            \r\n",
        "          profit = max_value - min_value\r\n",
        "\r\n",
        "      row_data = {\r\n",
        "          \"ticker\": symb,\r\n",
        "          \"entry\": min_value,\r\n",
        "          \"exit\": max_value,\r\n",
        "          \"profit\": profit,\r\n",
        "          \"days\": (max_index - min_index)\r\n",
        "      }\r\n",
        "\r\n",
        "      rows_for_day.append(row_data)\r\n",
        "\r\n",
        "    possible_entry_exit = pd.concat([possible_entry_exit, pd.DataFrame(rows_for_day)], ignore_index=True)\r\n",
        "  \r\n",
        "  end_time = datetime.datetime.now()\r\n",
        "  process_time = end_time - start_time\r\n",
        "\r\n",
        "  print(\"Processing %s took %d(s)\"%(symb, process_time.seconds))"
      ],
      "execution_count": 74,
      "outputs": [
        {
          "output_type": "stream",
          "text": [
            "Processing GE took 0(s)\n",
            "Processing NIO took 0(s)\n",
            "Processing AMC took 0(s)\n",
            "Processing EXPR took 0(s)\n",
            "Processing XOM took 0(s)\n",
            "Processing F took 0(s)\n",
            "Processing MRO took 0(s)\n",
            "Processing ITUB took 0(s)\n",
            "Processing BAC took 0(s)\n",
            "Processing GME took 0(s)\n",
            "Processing PBR took 0(s)\n",
            "Processing T took 0(s)\n",
            "Processing CCL took 0(s)\n",
            "Processing VALE took 0(s)\n",
            "Processing NOK took 0(s)\n",
            "Processing NCLH took 0(s)\n",
            "Processing RIG took 0(s)\n",
            "Processing ABEV took 0(s)\n",
            "Processing BBD took 0(s)\n",
            "Processing WFC took 1(s)\n"
          ],
          "name": "stdout"
        }
      ]
    },
    {
      "cell_type": "code",
      "metadata": {
        "colab": {
          "base_uri": "https://localhost:8080/",
          "height": 191
        },
        "id": "fQFNjyx7UKyp",
        "outputId": "d6cbb260-c3c3-44a9-9a46-b50808f8fe29"
      },
      "source": [
        "possible_entry_exit.tail()"
      ],
      "execution_count": 75,
      "outputs": [
        {
          "output_type": "execute_result",
          "data": {
            "text/html": [
              "<div>\n",
              "<style scoped>\n",
              "    .dataframe tbody tr th:only-of-type {\n",
              "        vertical-align: middle;\n",
              "    }\n",
              "\n",
              "    .dataframe tbody tr th {\n",
              "        vertical-align: top;\n",
              "    }\n",
              "\n",
              "    .dataframe thead th {\n",
              "        text-align: right;\n",
              "    }\n",
              "</style>\n",
              "<table border=\"1\" class=\"dataframe\">\n",
              "  <thead>\n",
              "    <tr style=\"text-align: right;\">\n",
              "      <th></th>\n",
              "      <th>ticker</th>\n",
              "      <th>entry</th>\n",
              "      <th>exit</th>\n",
              "      <th>profit</th>\n",
              "      <th>days</th>\n",
              "    </tr>\n",
              "  </thead>\n",
              "  <tbody>\n",
              "    <tr>\n",
              "      <th>292825</th>\n",
              "      <td>WFC</td>\n",
              "      <td>23.6185</td>\n",
              "      <td>30.3680</td>\n",
              "      <td>6.7495</td>\n",
              "      <td>28</td>\n",
              "    </tr>\n",
              "    <tr>\n",
              "      <th>292826</th>\n",
              "      <td>WFC</td>\n",
              "      <td>24.0585</td>\n",
              "      <td>30.3680</td>\n",
              "      <td>6.3095</td>\n",
              "      <td>29</td>\n",
              "    </tr>\n",
              "    <tr>\n",
              "      <th>292827</th>\n",
              "      <td>WFC</td>\n",
              "      <td>23.6185</td>\n",
              "      <td>30.4225</td>\n",
              "      <td>6.8040</td>\n",
              "      <td>30</td>\n",
              "    </tr>\n",
              "    <tr>\n",
              "      <th>292828</th>\n",
              "      <td>WFC</td>\n",
              "      <td>23.7680</td>\n",
              "      <td>30.4225</td>\n",
              "      <td>6.6545</td>\n",
              "      <td>29</td>\n",
              "    </tr>\n",
              "    <tr>\n",
              "      <th>292829</th>\n",
              "      <td>WFC</td>\n",
              "      <td>24.4540</td>\n",
              "      <td>30.4225</td>\n",
              "      <td>5.9685</td>\n",
              "      <td>28</td>\n",
              "    </tr>\n",
              "  </tbody>\n",
              "</table>\n",
              "</div>"
            ],
            "text/plain": [
              "       ticker    entry     exit  profit days\n",
              "292825    WFC  23.6185  30.3680  6.7495   28\n",
              "292826    WFC  24.0585  30.3680  6.3095   29\n",
              "292827    WFC  23.6185  30.4225  6.8040   30\n",
              "292828    WFC  23.7680  30.4225  6.6545   29\n",
              "292829    WFC  24.4540  30.4225  5.9685   28"
            ]
          },
          "metadata": {
            "tags": []
          },
          "execution_count": 75
        }
      ]
    },
    {
      "cell_type": "code",
      "metadata": {
        "colab": {
          "base_uri": "https://localhost:8080/",
          "height": 391
        },
        "id": "2k8r_eL96cAX",
        "outputId": "c8311314-6b09-469e-a8ad-e6b2d940ad13"
      },
      "source": [
        "possible_entry_exit.sort_values(\"profit\", ascending=False)"
      ],
      "execution_count": 76,
      "outputs": [
        {
          "output_type": "execute_result",
          "data": {
            "text/html": [
              "<div>\n",
              "<style scoped>\n",
              "    .dataframe tbody tr th:only-of-type {\n",
              "        vertical-align: middle;\n",
              "    }\n",
              "\n",
              "    .dataframe tbody tr th {\n",
              "        vertical-align: top;\n",
              "    }\n",
              "\n",
              "    .dataframe thead th {\n",
              "        text-align: right;\n",
              "    }\n",
              "</style>\n",
              "<table border=\"1\" class=\"dataframe\">\n",
              "  <thead>\n",
              "    <tr style=\"text-align: right;\">\n",
              "      <th></th>\n",
              "      <th>ticker</th>\n",
              "      <th>entry</th>\n",
              "      <th>exit</th>\n",
              "      <th>profit</th>\n",
              "      <th>days</th>\n",
              "    </tr>\n",
              "  </thead>\n",
              "  <tbody>\n",
              "    <tr>\n",
              "      <th>29225</th>\n",
              "      <td>NIO</td>\n",
              "      <td>21.2500</td>\n",
              "      <td>56.6300</td>\n",
              "      <td>35.380</td>\n",
              "      <td>30</td>\n",
              "    </tr>\n",
              "    <tr>\n",
              "      <th>28752</th>\n",
              "      <td>NIO</td>\n",
              "      <td>21.2500</td>\n",
              "      <td>55.1240</td>\n",
              "      <td>33.874</td>\n",
              "      <td>29</td>\n",
              "    </tr>\n",
              "    <tr>\n",
              "      <th>29224</th>\n",
              "      <td>NIO</td>\n",
              "      <td>21.6130</td>\n",
              "      <td>55.1240</td>\n",
              "      <td>33.511</td>\n",
              "      <td>30</td>\n",
              "    </tr>\n",
              "    <tr>\n",
              "      <th>29226</th>\n",
              "      <td>NIO</td>\n",
              "      <td>24.0530</td>\n",
              "      <td>56.6300</td>\n",
              "      <td>32.577</td>\n",
              "      <td>29</td>\n",
              "    </tr>\n",
              "    <tr>\n",
              "      <th>28753</th>\n",
              "      <td>NIO</td>\n",
              "      <td>24.0530</td>\n",
              "      <td>56.6300</td>\n",
              "      <td>32.577</td>\n",
              "      <td>29</td>\n",
              "    </tr>\n",
              "    <tr>\n",
              "      <th>...</th>\n",
              "      <td>...</td>\n",
              "      <td>...</td>\n",
              "      <td>...</td>\n",
              "      <td>...</td>\n",
              "      <td>...</td>\n",
              "    </tr>\n",
              "    <tr>\n",
              "      <th>146888</th>\n",
              "      <td>PBR</td>\n",
              "      <td>6.9805</td>\n",
              "      <td>6.9805</td>\n",
              "      <td>0.000</td>\n",
              "      <td>0</td>\n",
              "    </tr>\n",
              "    <tr>\n",
              "      <th>219903</th>\n",
              "      <td>NCLH</td>\n",
              "      <td>39.5680</td>\n",
              "      <td>39.5680</td>\n",
              "      <td>0.000</td>\n",
              "      <td>0</td>\n",
              "    </tr>\n",
              "    <tr>\n",
              "      <th>219914</th>\n",
              "      <td>NCLH</td>\n",
              "      <td>15.2470</td>\n",
              "      <td>15.2470</td>\n",
              "      <td>0.000</td>\n",
              "      <td>0</td>\n",
              "    </tr>\n",
              "    <tr>\n",
              "      <th>176156</th>\n",
              "      <td>CCL</td>\n",
              "      <td>15.2310</td>\n",
              "      <td>15.2310</td>\n",
              "      <td>0.000</td>\n",
              "      <td>0</td>\n",
              "    </tr>\n",
              "    <tr>\n",
              "      <th>175997</th>\n",
              "      <td>CCL</td>\n",
              "      <td>37.9590</td>\n",
              "      <td>37.9590</td>\n",
              "      <td>0.000</td>\n",
              "      <td>0</td>\n",
              "    </tr>\n",
              "  </tbody>\n",
              "</table>\n",
              "<p>292830 rows × 5 columns</p>\n",
              "</div>"
            ],
            "text/plain": [
              "       ticker    entry     exit  profit days\n",
              "29225     NIO  21.2500  56.6300  35.380   30\n",
              "28752     NIO  21.2500  55.1240  33.874   29\n",
              "29224     NIO  21.6130  55.1240  33.511   30\n",
              "29226     NIO  24.0530  56.6300  32.577   29\n",
              "28753     NIO  24.0530  56.6300  32.577   29\n",
              "...       ...      ...      ...     ...  ...\n",
              "146888    PBR   6.9805   6.9805   0.000    0\n",
              "219903   NCLH  39.5680  39.5680   0.000    0\n",
              "219914   NCLH  15.2470  15.2470   0.000    0\n",
              "176156    CCL  15.2310  15.2310   0.000    0\n",
              "175997    CCL  37.9590  37.9590   0.000    0\n",
              "\n",
              "[292830 rows x 5 columns]"
            ]
          },
          "metadata": {
            "tags": []
          },
          "execution_count": 76
        }
      ]
    },
    {
      "cell_type": "code",
      "metadata": {
        "id": "SpPSbY8z6yiI"
      },
      "source": [
        "possible_entry_exit.to_csv(\"COMP542StockGANDataset.csv\", index=False)"
      ],
      "execution_count": 77,
      "outputs": []
    }
  ]
}